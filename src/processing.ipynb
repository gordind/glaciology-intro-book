{
 "cells": [
  {
   "cell_type": "markdown",
   "id": "25eaf96c-388b-4bd4-822c-4b3333ea7b74",
   "metadata": {},
   "source": [
    "# Processing examples\n",
    "\n",
    "This notebook contains examples of doing some processing. \n",
    "\n",
    "\n"
   ]
  },
  {
   "cell_type": "markdown",
   "id": "9d8a19fe-786b-4f88-9a66-1612490d0328",
   "metadata": {},
   "source": [
    "It can include equations etc.\n",
    "\n",
    "$\n",
    "\\phi_d(t) = \\phi_t(t) - \\phi_r(t)\n",
    "$"
   ]
  },
  {
   "cell_type": "code",
   "execution_count": 25,
   "id": "e719ed68-472f-47d1-80bc-5d8d55b2cfb1",
   "metadata": {},
   "outputs": [],
   "source": [
    "import numpy as np\n",
    "import math\n",
    "import matplotlib.pyplot as plt"
   ]
  },
  {
   "cell_type": "markdown",
   "id": "611ee591-a9ef-44d2-9508-58da84b17c71",
   "metadata": {},
   "source": [
    "Define physical constants"
   ]
  },
  {
   "cell_type": "code",
   "execution_count": 31,
   "id": "99553f72-a114-4af8-8404-83c448089cf5",
   "metadata": {},
   "outputs": [
    {
     "name": "stdout",
     "output_type": "stream",
     "text": [
      "121.40267393661519\n"
     ]
    }
   ],
   "source": [
    "epsilon = 2.1;    # the dielectric permittivity of the cable\n",
    "\n",
    "c= 3e8;\n",
    "\n",
    "B = 200e6\n",
    "T = 1; \n",
    "pi = math.pi\n",
    "K = 2*pi*B/T\n",
    "\n",
    "t = np.linspace(0.0, 1.0, num=100)\n",
    "\n",
    "omega_c = 2*pi*300\n",
    "\n",
    "## range and two-way travel time\n",
    "R = 10 # m\n",
    "tau =  2*R/(c/1.8)\n",
    "\n",
    "phi_d = omega_c * tau + K*tau*(t - T/2) - K*tau**2 /2\n",
    "\n",
    "f_d = 4*pi*B*R*np.sqrt(epsilon)/c/T\n",
    "print(f_d)"
   ]
  },
  {
   "cell_type": "markdown",
   "id": "d5275330-f1f8-4860-9dfc-8f2bdafa5153",
   "metadata": {},
   "source": [
    "The phase $\\phi$ is a linear function of time $t$.\n"
   ]
  },
  {
   "cell_type": "code",
   "execution_count": 29,
   "id": "a3d10b31-6109-483c-b00d-61413ae0cc2e",
   "metadata": {},
   "outputs": [
    {
     "data": {
      "image/png": "[encoded data removed]",
      "text/plain": [
       "<Figure size 432x288 with 1 Axes>"
      ]
     },
     "metadata": {
      "needs_background": "light"
     },
     "output_type": "display_data"
    }
   ],
   "source": [
    "plt.plot(t,phi_d);\n",
    "plt.ylabel('phi [rad]')\n",
    "plt.xlabel('t [s]')\n",
    "plt.show()"
   ]
  }
 ],
 "metadata": {
  "kernelspec": {
   "display_name": "Python 3",
   "language": "python",
   "name": "python3"
  },
  "language_info": {
   "codemirror_mode": {
    "name": "ipython",
    "version": 3
   },
   "file_extension": ".py",
   "mimetype": "text/x-python",
   "name": "python",
   "nbconvert_exporter": "python",
   "pygments_lexer": "ipython3",
   "version": "3.9.7"
  }
 },
 "nbformat": 4,
 "nbformat_minor": 5
}
