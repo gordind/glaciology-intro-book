{
 "cells": [
  {
   "cell_type": "code",
   "execution_count": null,
   "id": "92bf5493-e9a9-42ee-b28b-165036083392",
   "metadata": {},
   "outputs": [],
   "source": []
  }
 ],
 "metadata": {
  "kernelspec": {
   "display_name": "",
   "name": ""
  },
  "language_info": {
   "name": ""
  }
 },
 "nbformat": 4,
 "nbformat_minor": 5
}
