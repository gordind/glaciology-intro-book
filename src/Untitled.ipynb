{
 "cells": [
  {
   "cell_type": "markdown",
   "id": "f2e46994-5d83-4b42-bbd5-8370e1c44d99",
   "metadata": {},
   "source": [
    "##"
   ]
  },
  {
   "cell_type": "markdown",
   "id": "dbcdf5ad-80da-405c-bcfc-321e73da90de",
   "metadata": {},
   "source": []
  },
  {
   "cell_type": "markdown",
   "id": "58bbc434-a880-4f55-b864-32a12264ed4e",
   "metadata": {},
   "source": []
  },
  {
   "cell_type": "markdown",
   "id": "af79fd50-1065-4904-8210-b7d154c7703b",
   "metadata": {},
   "source": []
  },
  {
   "cell_type": "markdown",
   "id": "53fe0107-e290-4adc-a9e4-fb46a710ad75",
   "metadata": {},
   "source": []
  },
  {
   "cell_type": "markdown",
   "id": "c2f5eaf6-827d-48ba-8830-c1e59a21c28b",
   "metadata": {},
   "source": []
  },
  {
   "cell_type": "markdown",
   "id": "903e36aa-a3ff-4b9d-8058-c5aa6c7a9c8b",
   "metadata": {},
   "source": []
  },
  {
   "cell_type": "markdown",
   "id": "f3b2ebd4-781d-4775-90f8-82e43191cd2f",
   "metadata": {},
   "source": []
  },
  {
   "cell_type": "markdown",
   "id": "e33ab921-df7e-48e0-8f07-8452fde35a04",
   "metadata": {},
   "source": []
  },
  {
   "cell_type": "markdown",
   "id": "40534097-c01a-48c8-8e48-375fa9df7a5d",
   "metadata": {},
   "source": []
  },
  {
   "cell_type": "markdown",
   "id": "e3fd0050-d1b4-4fe0-8beb-95da83f0c3cc",
   "metadata": {},
   "source": []
  }
 ],
 "metadata": {
  "kernelspec": {
   "display_name": "Python 3",
   "language": "python",
   "name": "python3"
  },
  "language_info": {
   "codemirror_mode": {
    "name": "ipython",
    "version": 3
   },
   "file_extension": ".py",
   "mimetype": "text/x-python",
   "name": "python",
   "nbconvert_exporter": "python",
   "pygments_lexer": "ipython3",
   "version": "3.9.7"
  }
 },
 "nbformat": 4,
 "nbformat_minor": 5
}
