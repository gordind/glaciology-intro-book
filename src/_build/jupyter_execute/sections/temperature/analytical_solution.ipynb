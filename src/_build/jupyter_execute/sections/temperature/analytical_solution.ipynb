{
 "cells": [
  {
   "cell_type": "markdown",
   "id": "0e4f54ff-898a-4f3b-8c92-1cc6401f9313",
   "metadata": {},
   "source": [
    "# An analytical solution\n",
    "In this section we apply the general heat equation we derived in the previous section to a simplified scenario in which we have not advection and the temperature and the ice-sheet surface varies sinusoidally with time. Under these condictions an 'analytical' solution to the equation can be found, i.e. one which does not require any computational methods to derive, just pen and paper. Analytical solutions are useful for building intuition for the physics and for testing numerical solutions."
   ]
  },
  {
   "cell_type": "markdown",
   "id": "f752c131-987f-44ab-94cb-6d1f223a8f78",
   "metadata": {},
   "source": []
  }
 ],
 "metadata": {
  "kernelspec": {
   "display_name": "Python 3",
   "language": "python",
   "name": "python3"
  },
  "language_info": {
   "codemirror_mode": {
    "name": "ipython",
    "version": 3
   },
   "file_extension": ".py",
   "mimetype": "text/x-python",
   "name": "python",
   "nbconvert_exporter": "python",
   "pygments_lexer": "ipython3",
   "version": "3.7.11"
  }
 },
 "nbformat": 4,
 "nbformat_minor": 5
}