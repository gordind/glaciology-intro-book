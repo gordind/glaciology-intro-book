{
 "cells": [
  {
   "cell_type": "markdown",
   "id": "d5d3a89c-e68b-4090-a603-a430e8275e0e",
   "metadata": {},
   "source": [
    "# Stacking ApRES data\n",
    "Inspired by Joel's question [here](https://github.com/autonomous-phase-sensitive-radar/theory/issues/2#issue-1182588048).\n",
    "\n",
    "A page to describe \n",
    "- the purpose of stacking the data you get from ApRES chirps\n",
    "- how its done\n",
    "- a demosontration of how it reduces the noise floor potentially using [Impdar](https://github.com/dlilien/ImpDAR)."
   ]
  },
  {
   "cell_type": "code",
   "execution_count": null,
   "id": "bfa056c2-dd8e-4c0d-9239-ba5c344dc404",
   "metadata": {},
   "outputs": [],
   "source": []
  }
 ],
 "metadata": {
  "kernelspec": {
   "display_name": "Python 3",
   "language": "python",
   "name": "python3"
  },
  "language_info": {
   "codemirror_mode": {
    "name": "ipython",
    "version": 3
   },
   "file_extension": ".py",
   "mimetype": "text/x-python",
   "name": "python",
   "nbconvert_exporter": "python",
   "pygments_lexer": "ipython3",
   "version": "3.7.11"
  }
 },
 "nbformat": 4,
 "nbformat_minor": 5
}
