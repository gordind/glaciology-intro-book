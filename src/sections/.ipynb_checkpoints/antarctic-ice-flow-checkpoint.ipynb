{
 "cells": [
  {
   "cell_type": "markdown",
   "id": "b5cea7a0-f7ed-4149-9594-bc7b7d157d3c",
   "metadata": {},
   "source": [
    "# Flow of the Antarctic Ice sheet\n"
   ]
  },
  {
   "cell_type": "code",
   "execution_count": null,
   "id": "8230d12c-d158-4ad6-bc63-36e857b774cb",
   "metadata": {},
   "outputs": [],
   "source": []
  }
 ],
 "metadata": {
  "kernelspec": {
   "display_name": "Python 3",
   "language": "python",
   "name": "python3"
  },
  "language_info": {
   "codemirror_mode": {
    "name": "ipython",
    "version": 3
   },
   "file_extension": ".py",
   "mimetype": "text/x-python",
   "name": "python",
   "nbconvert_exporter": "python",
   "pygments_lexer": "ipython3",
   "version": "3.9.7"
  }
 },
 "nbformat": 4,
 "nbformat_minor": 5
}
