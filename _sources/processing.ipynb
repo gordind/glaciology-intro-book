{
 "cells": [
  {
   "cell_type": "markdown",
   "id": "25eaf96c-388b-4bd4-822c-4b3333ea7b74",
   "metadata": {},
   "source": [
    "# Processing examples\n",
    "\n",
    "This notebook contains examples of doing some processing. \n",
    "\n",
    "\n"
   ]
  },
  {
   "cell_type": "markdown",
   "id": "9d8a19fe-786b-4f88-9a66-1612490d0328",
   "metadata": {},
   "source": [
    "It can include equations etc.\n",
    "\n",
    "$\n",
    "\\phi_d(t) = \\phi_t(t) - \\phi_r(t)\n",
    "$"
   ]
  },
  {
   "cell_type": "code",
   "execution_count": 3,
   "id": "e719ed68-472f-47d1-80bc-5d8d55b2cfb1",
   "metadata": {},
   "outputs": [],
   "source": [
    "import xarray"
   ]
  },
  {
   "cell_type": "code",
   "execution_count": null,
   "id": "99553f72-a114-4af8-8404-83c448089cf5",
   "metadata": {},
   "outputs": [],
   "source": []
  }
 ],
 "metadata": {
  "kernelspec": {
   "display_name": "Python 3",
   "language": "python",
   "name": "python3"
  },
  "language_info": {
   "codemirror_mode": {
    "name": "ipython",
    "version": 3
   },
   "file_extension": ".py",
   "mimetype": "text/x-python",
   "name": "python",
   "nbconvert_exporter": "python",
   "pygments_lexer": "ipython3",
   "version": "3.9.7"
  }
 },
 "nbformat": 4,
 "nbformat_minor": 5
}
